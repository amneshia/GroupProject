{
 "cells": [
  {
   "cell_type": "markdown",
   "metadata": {},
   "source": [
    "# importing libraries"
   ]
  },
  {
   "cell_type": "code",
   "execution_count": 1,
   "metadata": {},
   "outputs": [],
   "source": [
    "import numpy as np\n",
    "from matplotlib import pyplot as plt\n",
    "%matplotlib inline\n",
    "import seaborn as sns\n",
    "import scipy.io as sio\n",
    "import pandas as pd\n",
    "from sklearn.model_selection import train_test_split, GridSearchCV\n",
    "from sklearn.decomposition import PCA\n",
    "from sklearn.preprocessing import LabelEncoder, StandardScaler\n",
    "from sklearn.linear_model import LogisticRegression\n",
    "from sklearn.svm import SVC\n",
    "from sklearn.metrics import accuracy_score\n",
    "from sklearn.ensemble import RandomForestClassifier\n",
    "from sklearn.cluster import KMeans"
   ]
  },
  {
   "cell_type": "markdown",
   "metadata": {},
   "source": [
    "# load data"
   ]
  },
  {
   "cell_type": "code",
   "execution_count": 2,
   "metadata": {
    "scrolled": true
   },
   "outputs": [
    {
     "data": {
      "text/plain": [
       "dict_keys(['__header__', '__version__', '__globals__', 'facedat', 'dirnames'])"
      ]
     },
     "execution_count": 2,
     "metadata": {},
     "output_type": "execute_result"
    }
   ],
   "source": [
    "test = sio.loadmat('umist_cropped.mat')\n",
    "test.keys()"
   ]
  },
  {
   "cell_type": "code",
   "execution_count": 3,
   "metadata": {},
   "outputs": [
    {
     "data": {
      "text/plain": [
       "array([[array(['1a'], dtype='<U2'), array(['1b'], dtype='<U2'),\n",
       "        array(['1c'], dtype='<U2'), array(['1d'], dtype='<U2'),\n",
       "        array(['1e'], dtype='<U2'), array(['1f'], dtype='<U2'),\n",
       "        array(['1g'], dtype='<U2'), array(['1h'], dtype='<U2'),\n",
       "        array(['1i'], dtype='<U2'), array(['1j'], dtype='<U2'),\n",
       "        array(['1k'], dtype='<U2'), array(['1l'], dtype='<U2'),\n",
       "        array(['1m'], dtype='<U2'), array(['1n'], dtype='<U2'),\n",
       "        array(['1o'], dtype='<U2'), array(['1p'], dtype='<U2'),\n",
       "        array(['1q'], dtype='<U2'), array(['1r'], dtype='<U2'),\n",
       "        array(['1s'], dtype='<U2'), array(['1t'], dtype='<U2')]],\n",
       "      dtype=object)"
      ]
     },
     "execution_count": 3,
     "metadata": {},
     "output_type": "execute_result"
    }
   ],
   "source": [
    "test[\"dirnames\"]"
   ]
  },
  {
   "cell_type": "markdown",
   "metadata": {},
   "source": [
    "# preprocessing"
   ]
  },
  {
   "cell_type": "code",
   "execution_count": 4,
   "metadata": {},
   "outputs": [
    {
     "data": {
      "text/plain": [
       "(575, 575)"
      ]
     },
     "execution_count": 4,
     "metadata": {},
     "output_type": "execute_result"
    }
   ],
   "source": [
    "names = []\n",
    "for i in range(test[\"dirnames\"].shape[1]):\n",
    "    names.append(test[\"dirnames\"][0,i][0])\n",
    "\n",
    "x, y = [], []\n",
    "for i in range(test[\"facedat\"].shape[1]):\n",
    "    \n",
    "    for j in range(test[\"facedat\"][0, i].shape[2]):\n",
    "        images = test[\"facedat\"][0, i]\n",
    "        x.append(np.ravel(images[:, :, j]))\n",
    "        y.append(names[i])\n",
    "\n",
    "encoder = LabelEncoder()\n",
    "encoder.fit(y)\n",
    "y = encoder.transform(y)\n",
    "len(x), len(y)"
   ]
  },
  {
   "cell_type": "markdown",
   "metadata": {},
   "source": [
    "# Generally the data is split in the ration of 80:20 or 75:25."
   ]
  },
  {
   "cell_type": "code",
   "execution_count": 5,
   "metadata": {},
   "outputs": [
    {
     "data": {
      "text/plain": [
       "(431, 144, 431, 144)"
      ]
     },
     "execution_count": 5,
     "metadata": {},
     "output_type": "execute_result"
    }
   ],
   "source": [
    "x_train, x_test, y_train, y_test = train_test_split(x, y, stratify = y, test_size = .25, random_state = 15)\n",
    "\n",
    "len(x_train), len(x_test), len(y_train), len(y_test)"
   ]
  },
  {
   "cell_type": "code",
   "execution_count": 6,
   "metadata": {},
   "outputs": [],
   "source": [
    "scaler = StandardScaler()\n",
    "scaler.fit(x_train)\n",
    "x_train_scaled = scaler.transform(x_train)\n",
    "x_test_scaled = scaler.transform(x_test)"
   ]
  },
  {
   "cell_type": "markdown",
   "metadata": {},
   "source": [
    "# PCA"
   ]
  },
  {
   "cell_type": "code",
   "execution_count": 7,
   "metadata": {},
   "outputs": [
    {
     "data": {
      "image/png": "[encoded data removed]",
      "text/plain": [
       "<Figure size 432x288 with 1 Axes>"
      ]
     },
     "metadata": {
      "needs_background": "light"
     },
     "output_type": "display_data"
    }
   ],
   "source": [
    "pca = PCA(n_components=0.99)\n",
    "pca.fit(x_train_scaled)\n",
    "\n",
    "plt.figure()\n",
    "plt.plot(pca.explained_variance_ratio_.cumsum())\n",
    "plt.xlabel(\"number of features\")\n",
    "plt.ylabel(\"cumulative sum\")\n",
    "plt.title(\"cumulative sum of explained variance for features\")\n",
    "plt.grid()\n",
    "plt.show()"
   ]
  },
  {
   "cell_type": "code",
   "execution_count": 9,
   "metadata": {},
   "outputs": [
    {
     "data": {
      "text/plain": [
       "((431, 107), (144, 107))"
      ]
     },
     "execution_count": 9,
     "metadata": {},
     "output_type": "execute_result"
    }
   ],
   "source": [
    "pca = PCA(n_components = 107)\n",
    "pca.fit(x_train_scaled)\n",
    "\n",
    "x_train_pca = pca.transform(x_train_scaled)\n",
    "x_test_pca = pca.transform(x_test_scaled)\n",
    "\n",
    "x_train_pca.shape, x_test_pca.shape"
   ]
  },
  {
   "cell_type": "markdown",
   "metadata": {},
   "source": [
    "# training/hyperparameter tuning/evaluation"
   ]
  },
  {
   "cell_type": "markdown",
   "metadata": {},
   "source": [
    "### SVM"
   ]
  },
  {
   "cell_type": "code",
   "execution_count": 10,
   "metadata": {},
   "outputs": [
    {
     "data": {
      "text/plain": [
       "GridSearchCV(cv=5, estimator=SVC(),\n",
       "             param_grid={'C': [0.0001, 0.00033, 0.001, 0.0033, 0.01, 0.033, 0.1,\n",
       "                               0.33, 1, 3.3, 10, 33, 100],\n",
       "                         'kernel': ['linear', 'poly', 'rbf', 'sigmoid']},\n",
       "             return_train_score=True, scoring='accuracy')"
      ]
     },
     "execution_count": 10,
     "metadata": {},
     "output_type": "execute_result"
    }
   ],
   "source": [
    "model = SVC()\n",
    "params = {\"C\" : [.0001, .00033, .001, .0033, .01, .033, .1, .33, 1, 3.3, 10, 33, 100], \n",
    "         \"kernel\" : [\"linear\", \"poly\", \"rbf\", \"sigmoid\"]}\n",
    "\n",
    "gridsearch = GridSearchCV(model, params, return_train_score = True, cv = 5, scoring = \"accuracy\")\n",
    "gridsearch.fit(x_train_pca, y_train)"
   ]
  },
  {
   "cell_type": "code",
   "execution_count": 11,
   "metadata": {},
   "outputs": [
    {
     "data": {
      "text/html": [
       "<div>\n",
       "<style scoped>\n",
       "    .dataframe tbody tr th:only-of-type {\n",
       "        vertical-align: middle;\n",
       "    }\n",
       "\n",
       "    .dataframe tbody tr th {\n",
       "        vertical-align: top;\n",
       "    }\n",
       "\n",
       "    .dataframe thead th {\n",
       "        text-align: right;\n",
       "    }\n",
       "</style>\n",
       "<table border=\"1\" class=\"dataframe\">\n",
       "  <thead>\n",
       "    <tr style=\"text-align: right;\">\n",
       "      <th></th>\n",
       "      <th>mean_fit_time</th>\n",
       "      <th>std_fit_time</th>\n",
       "      <th>mean_score_time</th>\n",
       "      <th>std_score_time</th>\n",
       "      <th>param_C</th>\n",
       "      <th>param_kernel</th>\n",
       "      <th>params</th>\n",
       "      <th>split0_test_score</th>\n",
       "      <th>split1_test_score</th>\n",
       "      <th>split2_test_score</th>\n",
       "      <th>...</th>\n",
       "      <th>mean_test_score</th>\n",
       "      <th>std_test_score</th>\n",
       "      <th>rank_test_score</th>\n",
       "      <th>split0_train_score</th>\n",
       "      <th>split1_train_score</th>\n",
       "      <th>split2_train_score</th>\n",
       "      <th>split3_train_score</th>\n",
       "      <th>split4_train_score</th>\n",
       "      <th>mean_train_score</th>\n",
       "      <th>std_train_score</th>\n",
       "    </tr>\n",
       "  </thead>\n",
       "  <tbody>\n",
       "    <tr>\n",
       "      <th>0</th>\n",
       "      <td>0.024799</td>\n",
       "      <td>0.005980</td>\n",
       "      <td>0.004599</td>\n",
       "      <td>7.992866e-04</td>\n",
       "      <td>0.0001</td>\n",
       "      <td>linear</td>\n",
       "      <td>{'C': 0.0001, 'kernel': 'linear'}</td>\n",
       "      <td>0.977011</td>\n",
       "      <td>0.976744</td>\n",
       "      <td>0.953488</td>\n",
       "      <td>...</td>\n",
       "      <td>0.969821</td>\n",
       "      <td>0.013981</td>\n",
       "      <td>26</td>\n",
       "      <td>0.976744</td>\n",
       "      <td>0.997101</td>\n",
       "      <td>0.997101</td>\n",
       "      <td>0.991304</td>\n",
       "      <td>0.997101</td>\n",
       "      <td>0.991871</td>\n",
       "      <td>0.007889</td>\n",
       "    </tr>\n",
       "    <tr>\n",
       "      <th>1</th>\n",
       "      <td>0.026399</td>\n",
       "      <td>0.000801</td>\n",
       "      <td>0.005000</td>\n",
       "      <td>6.325606e-04</td>\n",
       "      <td>0.0001</td>\n",
       "      <td>poly</td>\n",
       "      <td>{'C': 0.0001, 'kernel': 'poly'}</td>\n",
       "      <td>0.080460</td>\n",
       "      <td>0.081395</td>\n",
       "      <td>0.093023</td>\n",
       "      <td>...</td>\n",
       "      <td>0.083534</td>\n",
       "      <td>0.004759</td>\n",
       "      <td>38</td>\n",
       "      <td>0.084302</td>\n",
       "      <td>0.084058</td>\n",
       "      <td>0.081159</td>\n",
       "      <td>0.084058</td>\n",
       "      <td>0.084058</td>\n",
       "      <td>0.083527</td>\n",
       "      <td>0.001188</td>\n",
       "    </tr>\n",
       "    <tr>\n",
       "      <th>2</th>\n",
       "      <td>0.031800</td>\n",
       "      <td>0.000400</td>\n",
       "      <td>0.009200</td>\n",
       "      <td>3.995914e-04</td>\n",
       "      <td>0.0001</td>\n",
       "      <td>rbf</td>\n",
       "      <td>{'C': 0.0001, 'kernel': 'rbf'}</td>\n",
       "      <td>0.080460</td>\n",
       "      <td>0.081395</td>\n",
       "      <td>0.093023</td>\n",
       "      <td>...</td>\n",
       "      <td>0.083534</td>\n",
       "      <td>0.004759</td>\n",
       "      <td>38</td>\n",
       "      <td>0.084302</td>\n",
       "      <td>0.084058</td>\n",
       "      <td>0.081159</td>\n",
       "      <td>0.084058</td>\n",
       "      <td>0.084058</td>\n",
       "      <td>0.083527</td>\n",
       "      <td>0.001188</td>\n",
       "    </tr>\n",
       "    <tr>\n",
       "      <th>3</th>\n",
       "      <td>0.031800</td>\n",
       "      <td>0.000401</td>\n",
       "      <td>0.004999</td>\n",
       "      <td>2.861023e-07</td>\n",
       "      <td>0.0001</td>\n",
       "      <td>sigmoid</td>\n",
       "      <td>{'C': 0.0001, 'kernel': 'sigmoid'}</td>\n",
       "      <td>0.080460</td>\n",
       "      <td>0.081395</td>\n",
       "      <td>0.093023</td>\n",
       "      <td>...</td>\n",
       "      <td>0.083534</td>\n",
       "      <td>0.004759</td>\n",
       "      <td>38</td>\n",
       "      <td>0.084302</td>\n",
       "      <td>0.084058</td>\n",
       "      <td>0.081159</td>\n",
       "      <td>0.084058</td>\n",
       "      <td>0.084058</td>\n",
       "      <td>0.083527</td>\n",
       "      <td>0.001188</td>\n",
       "    </tr>\n",
       "    <tr>\n",
       "      <th>4</th>\n",
       "      <td>0.019800</td>\n",
       "      <td>0.000749</td>\n",
       "      <td>0.004000</td>\n",
       "      <td>7.539457e-07</td>\n",
       "      <td>0.00033</td>\n",
       "      <td>linear</td>\n",
       "      <td>{'C': 0.00033, 'kernel': 'linear'}</td>\n",
       "      <td>1.000000</td>\n",
       "      <td>0.988372</td>\n",
       "      <td>0.965116</td>\n",
       "      <td>...</td>\n",
       "      <td>0.988372</td>\n",
       "      <td>0.012738</td>\n",
       "      <td>16</td>\n",
       "      <td>1.000000</td>\n",
       "      <td>1.000000</td>\n",
       "      <td>1.000000</td>\n",
       "      <td>1.000000</td>\n",
       "      <td>1.000000</td>\n",
       "      <td>1.000000</td>\n",
       "      <td>0.000000</td>\n",
       "    </tr>\n",
       "  </tbody>\n",
       "</table>\n",
       "<p>5 rows × 22 columns</p>\n",
       "</div>"
      ],
      "text/plain": [
       "   mean_fit_time  std_fit_time  mean_score_time  std_score_time  param_C  \\\n",
       "0       0.024799      0.005980         0.004599    7.992866e-04   0.0001   \n",
       "1       0.026399      0.000801         0.005000    6.325606e-04   0.0001   \n",
       "2       0.031800      0.000400         0.009200    3.995914e-04   0.0001   \n",
       "3       0.031800      0.000401         0.004999    2.861023e-07   0.0001   \n",
       "4       0.019800      0.000749         0.004000    7.539457e-07  0.00033   \n",
       "\n",
       "  param_kernel                              params  split0_test_score  \\\n",
       "0       linear   {'C': 0.0001, 'kernel': 'linear'}           0.977011   \n",
       "1         poly     {'C': 0.0001, 'kernel': 'poly'}           0.080460   \n",
       "2          rbf      {'C': 0.0001, 'kernel': 'rbf'}           0.080460   \n",
       "3      sigmoid  {'C': 0.0001, 'kernel': 'sigmoid'}           0.080460   \n",
       "4       linear  {'C': 0.00033, 'kernel': 'linear'}           1.000000   \n",
       "\n",
       "   split1_test_score  split2_test_score  ...  mean_test_score  std_test_score  \\\n",
       "0           0.976744           0.953488  ...         0.969821        0.013981   \n",
       "1           0.081395           0.093023  ...         0.083534        0.004759   \n",
       "2           0.081395           0.093023  ...         0.083534        0.004759   \n",
       "3           0.081395           0.093023  ...         0.083534        0.004759   \n",
       "4           0.988372           0.965116  ...         0.988372        0.012738   \n",
       "\n",
       "   rank_test_score  split0_train_score  split1_train_score  \\\n",
       "0               26            0.976744            0.997101   \n",
       "1               38            0.084302            0.084058   \n",
       "2               38            0.084302            0.084058   \n",
       "3               38            0.084302            0.084058   \n",
       "4               16            1.000000            1.000000   \n",
       "\n",
       "   split2_train_score  split3_train_score  split4_train_score  \\\n",
       "0            0.997101            0.991304            0.997101   \n",
       "1            0.081159            0.084058            0.084058   \n",
       "2            0.081159            0.084058            0.084058   \n",
       "3            0.081159            0.084058            0.084058   \n",
       "4            1.000000            1.000000            1.000000   \n",
       "\n",
       "   mean_train_score  std_train_score  \n",
       "0          0.991871         0.007889  \n",
       "1          0.083527         0.001188  \n",
       "2          0.083527         0.001188  \n",
       "3          0.083527         0.001188  \n",
       "4          1.000000         0.000000  \n",
       "\n",
       "[5 rows x 22 columns]"
      ]
     },
     "execution_count": 11,
     "metadata": {},
     "output_type": "execute_result"
    }
   ],
   "source": [
    "results = pd.DataFrame.from_dict(gridsearch.cv_results_)\n",
    "results.head()"
   ]
  },
  {
   "cell_type": "code",
   "execution_count": 12,
   "metadata": {},
   "outputs": [
    {
     "data": {
      "image/png": "[encoded data removed]",
      "text/plain": [
       "<Figure size 432x288 with 2 Axes>"
      ]
     },
     "metadata": {
      "needs_background": "light"
     },
     "output_type": "display_data"
    }
   ],
   "source": [
    "hmap = results.pivot(\"param_C\", \"param_kernel\", \"mean_train_score\")\n",
    "sns.heatmap(hmap, linewidth = 1, annot = True)\n",
    "plt.ylabel(\"C\")\n",
    "plt.xlabel(\"kernel\")\n",
    "plt.title(\"train accuracy in heatmap\")\n",
    "plt.show()"
   ]
  },
  {
   "cell_type": "code",
   "execution_count": 13,
   "metadata": {},
   "outputs": [
    {
     "data": {
      "image/png": "[encoded data removed]",
      "text/plain": [
       "<Figure size 432x288 with 2 Axes>"
      ]
     },
     "metadata": {
      "needs_background": "light"
     },
     "output_type": "display_data"
    }
   ],
   "source": [
    "hmap = results.pivot(\"param_C\", \"param_kernel\", \"mean_test_score\")\n",
    "sns.heatmap(hmap, linewidth = 1, annot = True)\n",
    "plt.ylabel(\"C\")\n",
    "plt.xlabel(\"kernel\")\n",
    "plt.title(\"test accuracy in heatmap\")\n",
    "plt.show()"
   ]
  },
  {
   "cell_type": "code",
   "execution_count": 14,
   "metadata": {},
   "outputs": [
    {
     "data": {
      "text/plain": [
       "99.30555555555556"
      ]
     },
     "execution_count": 14,
     "metadata": {},
     "output_type": "execute_result"
    }
   ],
   "source": [
    "C = .00033\n",
    "kernel = \"linear\"\n",
    "model = SVC(C = C, kernel = kernel)\n",
    "model.fit(x_train_pca, y_train)\n",
    "\n",
    "y_test_pred = model.predict(x_test_pca)\n",
    "\n",
    "accuracy_score(y_test, y_test_pred)*100"
   ]
  },
  {
   "cell_type": "markdown",
   "metadata": {},
   "source": [
    "### RandomForest"
   ]
  },
  {
   "cell_type": "code",
   "execution_count": 15,
   "metadata": {},
   "outputs": [
    {
     "data": {
      "text/plain": [
       "GridSearchCV(cv=5, estimator=RandomForestClassifier(random_state=10),\n",
       "             param_grid={'min_samples_split': [5, 10, 50, 100],\n",
       "                         'n_estimators': [5, 10, 50, 100, 250, 500]},\n",
       "             return_train_score=True, scoring='accuracy')"
      ]
     },
     "execution_count": 15,
     "metadata": {},
     "output_type": "execute_result"
    }
   ],
   "source": [
    "params = {\"n_estimators\": [5, 10, 50, 100, 250, 500], \"min_samples_split\": [5, 10, 50, 100]}\n",
    "model = RandomForestClassifier(random_state = 10)\n",
    "gridsearch = GridSearchCV(model, params, cv = 5, scoring = 'accuracy', return_train_score = True)\n",
    "gridsearch.fit(x_train_pca, y_train)"
   ]
  },
  {
   "cell_type": "code",
   "execution_count": 16,
   "metadata": {},
   "outputs": [
    {
     "data": {
      "text/html": [
       "<div>\n",
       "<style scoped>\n",
       "    .dataframe tbody tr th:only-of-type {\n",
       "        vertical-align: middle;\n",
       "    }\n",
       "\n",
       "    .dataframe tbody tr th {\n",
       "        vertical-align: top;\n",
       "    }\n",
       "\n",
       "    .dataframe thead th {\n",
       "        text-align: right;\n",
       "    }\n",
       "</style>\n",
       "<table border=\"1\" class=\"dataframe\">\n",
       "  <thead>\n",
       "    <tr style=\"text-align: right;\">\n",
       "      <th></th>\n",
       "      <th>mean_fit_time</th>\n",
       "      <th>std_fit_time</th>\n",
       "      <th>mean_score_time</th>\n",
       "      <th>std_score_time</th>\n",
       "      <th>param_min_samples_split</th>\n",
       "      <th>param_n_estimators</th>\n",
       "      <th>params</th>\n",
       "      <th>split0_test_score</th>\n",
       "      <th>split1_test_score</th>\n",
       "      <th>split2_test_score</th>\n",
       "      <th>...</th>\n",
       "      <th>mean_test_score</th>\n",
       "      <th>std_test_score</th>\n",
       "      <th>rank_test_score</th>\n",
       "      <th>split0_train_score</th>\n",
       "      <th>split1_train_score</th>\n",
       "      <th>split2_train_score</th>\n",
       "      <th>split3_train_score</th>\n",
       "      <th>split4_train_score</th>\n",
       "      <th>mean_train_score</th>\n",
       "      <th>std_train_score</th>\n",
       "    </tr>\n",
       "  </thead>\n",
       "  <tbody>\n",
       "    <tr>\n",
       "      <th>0</th>\n",
       "      <td>0.025599</td>\n",
       "      <td>0.001622</td>\n",
       "      <td>0.002400</td>\n",
       "      <td>4.911283e-04</td>\n",
       "      <td>5</td>\n",
       "      <td>5</td>\n",
       "      <td>{'min_samples_split': 5, 'n_estimators': 5}</td>\n",
       "      <td>0.747126</td>\n",
       "      <td>0.767442</td>\n",
       "      <td>0.755814</td>\n",
       "      <td>...</td>\n",
       "      <td>0.737797</td>\n",
       "      <td>0.032705</td>\n",
       "      <td>15</td>\n",
       "      <td>0.959302</td>\n",
       "      <td>0.985507</td>\n",
       "      <td>0.985507</td>\n",
       "      <td>0.982609</td>\n",
       "      <td>0.962319</td>\n",
       "      <td>0.975049</td>\n",
       "      <td>0.011713</td>\n",
       "    </tr>\n",
       "    <tr>\n",
       "      <th>1</th>\n",
       "      <td>0.045800</td>\n",
       "      <td>0.001600</td>\n",
       "      <td>0.003400</td>\n",
       "      <td>4.903904e-04</td>\n",
       "      <td>5</td>\n",
       "      <td>10</td>\n",
       "      <td>{'min_samples_split': 5, 'n_estimators': 10}</td>\n",
       "      <td>0.850575</td>\n",
       "      <td>0.779070</td>\n",
       "      <td>0.848837</td>\n",
       "      <td>...</td>\n",
       "      <td>0.837557</td>\n",
       "      <td>0.039024</td>\n",
       "      <td>13</td>\n",
       "      <td>0.997093</td>\n",
       "      <td>1.000000</td>\n",
       "      <td>1.000000</td>\n",
       "      <td>1.000000</td>\n",
       "      <td>1.000000</td>\n",
       "      <td>0.999419</td>\n",
       "      <td>0.001163</td>\n",
       "    </tr>\n",
       "    <tr>\n",
       "      <th>2</th>\n",
       "      <td>0.220402</td>\n",
       "      <td>0.002417</td>\n",
       "      <td>0.013199</td>\n",
       "      <td>4.022143e-04</td>\n",
       "      <td>5</td>\n",
       "      <td>50</td>\n",
       "      <td>{'min_samples_split': 5, 'n_estimators': 50}</td>\n",
       "      <td>0.988506</td>\n",
       "      <td>0.941860</td>\n",
       "      <td>0.918605</td>\n",
       "      <td>...</td>\n",
       "      <td>0.951190</td>\n",
       "      <td>0.023758</td>\n",
       "      <td>7</td>\n",
       "      <td>1.000000</td>\n",
       "      <td>1.000000</td>\n",
       "      <td>1.000000</td>\n",
       "      <td>1.000000</td>\n",
       "      <td>1.000000</td>\n",
       "      <td>1.000000</td>\n",
       "      <td>0.000000</td>\n",
       "    </tr>\n",
       "    <tr>\n",
       "      <th>3</th>\n",
       "      <td>0.445999</td>\n",
       "      <td>0.015007</td>\n",
       "      <td>0.025000</td>\n",
       "      <td>8.583069e-07</td>\n",
       "      <td>5</td>\n",
       "      <td>100</td>\n",
       "      <td>{'min_samples_split': 5, 'n_estimators': 100}</td>\n",
       "      <td>0.965517</td>\n",
       "      <td>0.941860</td>\n",
       "      <td>0.953488</td>\n",
       "      <td>...</td>\n",
       "      <td>0.955894</td>\n",
       "      <td>0.008788</td>\n",
       "      <td>6</td>\n",
       "      <td>1.000000</td>\n",
       "      <td>1.000000</td>\n",
       "      <td>1.000000</td>\n",
       "      <td>1.000000</td>\n",
       "      <td>1.000000</td>\n",
       "      <td>1.000000</td>\n",
       "      <td>0.000000</td>\n",
       "    </tr>\n",
       "    <tr>\n",
       "      <th>4</th>\n",
       "      <td>1.103002</td>\n",
       "      <td>0.012602</td>\n",
       "      <td>0.060999</td>\n",
       "      <td>1.414924e-03</td>\n",
       "      <td>5</td>\n",
       "      <td>250</td>\n",
       "      <td>{'min_samples_split': 5, 'n_estimators': 250}</td>\n",
       "      <td>0.988506</td>\n",
       "      <td>0.965116</td>\n",
       "      <td>0.941860</td>\n",
       "      <td>...</td>\n",
       "      <td>0.974445</td>\n",
       "      <td>0.020024</td>\n",
       "      <td>2</td>\n",
       "      <td>1.000000</td>\n",
       "      <td>1.000000</td>\n",
       "      <td>1.000000</td>\n",
       "      <td>1.000000</td>\n",
       "      <td>1.000000</td>\n",
       "      <td>1.000000</td>\n",
       "      <td>0.000000</td>\n",
       "    </tr>\n",
       "  </tbody>\n",
       "</table>\n",
       "<p>5 rows × 22 columns</p>\n",
       "</div>"
      ],
      "text/plain": [
       "   mean_fit_time  std_fit_time  mean_score_time  std_score_time  \\\n",
       "0       0.025599      0.001622         0.002400    4.911283e-04   \n",
       "1       0.045800      0.001600         0.003400    4.903904e-04   \n",
       "2       0.220402      0.002417         0.013199    4.022143e-04   \n",
       "3       0.445999      0.015007         0.025000    8.583069e-07   \n",
       "4       1.103002      0.012602         0.060999    1.414924e-03   \n",
       "\n",
       "  param_min_samples_split param_n_estimators  \\\n",
       "0                       5                  5   \n",
       "1                       5                 10   \n",
       "2                       5                 50   \n",
       "3                       5                100   \n",
       "4                       5                250   \n",
       "\n",
       "                                          params  split0_test_score  \\\n",
       "0    {'min_samples_split': 5, 'n_estimators': 5}           0.747126   \n",
       "1   {'min_samples_split': 5, 'n_estimators': 10}           0.850575   \n",
       "2   {'min_samples_split': 5, 'n_estimators': 50}           0.988506   \n",
       "3  {'min_samples_split': 5, 'n_estimators': 100}           0.965517   \n",
       "4  {'min_samples_split': 5, 'n_estimators': 250}           0.988506   \n",
       "\n",
       "   split1_test_score  split2_test_score  ...  mean_test_score  std_test_score  \\\n",
       "0           0.767442           0.755814  ...         0.737797        0.032705   \n",
       "1           0.779070           0.848837  ...         0.837557        0.039024   \n",
       "2           0.941860           0.918605  ...         0.951190        0.023758   \n",
       "3           0.941860           0.953488  ...         0.955894        0.008788   \n",
       "4           0.965116           0.941860  ...         0.974445        0.020024   \n",
       "\n",
       "   rank_test_score  split0_train_score  split1_train_score  \\\n",
       "0               15            0.959302            0.985507   \n",
       "1               13            0.997093            1.000000   \n",
       "2                7            1.000000            1.000000   \n",
       "3                6            1.000000            1.000000   \n",
       "4                2            1.000000            1.000000   \n",
       "\n",
       "   split2_train_score  split3_train_score  split4_train_score  \\\n",
       "0            0.985507            0.982609            0.962319   \n",
       "1            1.000000            1.000000            1.000000   \n",
       "2            1.000000            1.000000            1.000000   \n",
       "3            1.000000            1.000000            1.000000   \n",
       "4            1.000000            1.000000            1.000000   \n",
       "\n",
       "   mean_train_score  std_train_score  \n",
       "0          0.975049         0.011713  \n",
       "1          0.999419         0.001163  \n",
       "2          1.000000         0.000000  \n",
       "3          1.000000         0.000000  \n",
       "4          1.000000         0.000000  \n",
       "\n",
       "[5 rows x 22 columns]"
      ]
     },
     "execution_count": 16,
     "metadata": {},
     "output_type": "execute_result"
    }
   ],
   "source": [
    "results = pd.DataFrame.from_dict(gridsearch.cv_results_)\n",
    "results.head()"
   ]
  },
  {
   "cell_type": "code",
   "execution_count": 17,
   "metadata": {},
   "outputs": [
    {
     "data": {
      "image/png": "[encoded data removed]",
      "text/plain": [
       "<Figure size 432x288 with 2 Axes>"
      ]
     },
     "metadata": {
      "needs_background": "light"
     },
     "output_type": "display_data"
    }
   ],
   "source": [
    "hmap = results.pivot(\"param_n_estimators\", \"param_min_samples_split\", \"mean_train_score\")\n",
    "sns.heatmap(hmap, linewidth = 1, annot = True)\n",
    "plt.ylabel(\"n_estimators\")\n",
    "plt.xlabel(\"min_samples_split\")\n",
    "plt.title(\"train accuracy in heatmap\")\n",
    "plt.show()"
   ]
  },
  {
   "cell_type": "code",
   "execution_count": 18,
   "metadata": {},
   "outputs": [
    {
     "data": {
      "image/png": "[encoded data removed]",
      "text/plain": [
       "<Figure size 432x288 with 2 Axes>"
      ]
     },
     "metadata": {
      "needs_background": "light"
     },
     "output_type": "display_data"
    }
   ],
   "source": [
    "hmap = results.pivot(\"param_n_estimators\", \"param_min_samples_split\", \"mean_test_score\")\n",
    "sns.heatmap(hmap, linewidth = 1, annot = True)\n",
    "plt.ylabel(\"n_estimators\")\n",
    "plt.xlabel(\"min_samples_split\")\n",
    "plt.title(\"test accuracy in heatmap\")\n",
    "plt.show()"
   ]
  },
  {
   "cell_type": "code",
   "execution_count": 19,
   "metadata": {},
   "outputs": [
    {
     "data": {
      "text/plain": [
       "98.61111111111111"
      ]
     },
     "execution_count": 19,
     "metadata": {},
     "output_type": "execute_result"
    }
   ],
   "source": [
    "n_estimators = 500\n",
    "min_samples_split = 5\n",
    "model = RandomForestClassifier(n_estimators = n_estimators, min_samples_split = min_samples_split)\n",
    "model.fit(x_train_pca, y_train)\n",
    "\n",
    "y_test_pred = model.predict(x_test_pca)\n",
    "\n",
    "accuracy_score(y_test, y_test_pred)*100"
   ]
  },
  {
   "cell_type": "markdown",
   "metadata": {},
   "source": [
    "* PCA is applied to training set and SVM and RandomForest classifiers are trained. \n",
    "* Grid search is used for hyperparameter tuning\n",
    "* Using SVM classifier, we obtained 99.3% accuracy where as using RandomForest classifier, we got 98.6% accuracy"
   ]
  },
  {
   "cell_type": "markdown",
   "metadata": {},
   "source": [
    "# clustering"
   ]
  },
  {
   "cell_type": "code",
   "execution_count": 36,
   "metadata": {},
   "outputs": [],
   "source": [
    "# mapping labels from cluster to original labels\n",
    "def get_reference_dict(clusters,data_label):\n",
    "    reference_label = {}\n",
    "    # For loop to run through each label of cluster label\n",
    "    for i in range(len(np.unique(clusters))):\n",
    "        index = np.where(clusters == i,1,0)\n",
    "        num = np.bincount(data_label[index==1]).argmax()\n",
    "        reference_label[i] = num\n",
    "    return reference_label\n",
    "\n",
    "# Mapping predictions to original labels\n",
    "def get_labels(clusters,refernce_labels):\n",
    "    temp_labels = np.random.rand(len(clusters))\n",
    "    for i in range(len(clusters)):\n",
    "        temp_labels[i] = reference_labels[clusters[i]]\n",
    "    return temp_labels"
   ]
  },
  {
   "cell_type": "code",
   "execution_count": null,
   "metadata": {},
   "outputs": [
    {
     "name": "stdout",
     "output_type": "stream",
     "text": [
      "5 10 15 20 25 30 35 40 45 50 55 60 65 70 75 80 85 90 95 100 105 110 115 120 125 130 135 140 145 150 155 "
     ]
    }
   ],
   "source": [
    "sse, acc = [], []\n",
    "list_k = list(range(5, 251, 5))\n",
    "for k in list_k:\n",
    "    km = KMeans(n_clusters=k)\n",
    "    clusters = km.fit_predict(x_train_scaled)\n",
    "    sse.append(km.inertia_)\n",
    "    reference_labels = get_reference_dict(clusters,y_train)\n",
    "    predicted_labels = get_labels(clusters,reference_labels)\n",
    "    acc.append(accuracy_score(predicted_labels,y_train))\n",
    "    print(k, end = \" \")\n"
   ]
  },
  {
   "cell_type": "code",
   "execution_count": null,
   "metadata": {},
   "outputs": [],
   "source": [
    "\n",
    "\n",
    "fig, ax1 = plt.subplots(figsize=(8,5)) \n",
    "\n",
    "ax2 = ax1.twinx()\n",
    "\n",
    "ax1.set_xlabel(\"Number of clusters\")\n",
    "ax1.set_ylabel(\"sum of squared distances\")\n",
    "ax2.set_ylabel(\"accuracy\")\n",
    "\n",
    "p1, = ax1.plot(list_k, sse, \"bo-\", label = \"sum of squared distances\")\n",
    "p2, = ax2.plot(list_k, acc, \"g*-\", label = \"accuracy\")\n",
    "\n",
    "lns = [p1, p2]\n",
    "ax1.legend(handles = lns, loc = \"center right\")\n",
    "\n",
    "fig.tight_layout()\n",
    "plt.grid()\n",
    "plt.show()\n"
   ]
  },
  {
   "cell_type": "code",
   "execution_count": null,
   "metadata": {},
   "outputs": [],
   "source": [
    "print(\"accuracy with 120 clusters:\", acc[23])"
   ]
  },
  {
   "cell_type": "code",
   "execution_count": null,
   "metadata": {},
   "outputs": [],
   "source": [
    "sse_, acc_ = [], []\n",
    "list_k = list(range(5, 251, 5))\n",
    "for k in list_k:\n",
    "    km = KMeans(n_clusters=k)\n",
    "    clusters = km.fit_predict(x_train_pca)\n",
    "    sse_.append(km.inertia_)\n",
    "    reference_labels = get_reference_dict(clusters,y_train)\n",
    "    predicted_labels = get_labels(clusters,reference_labels)\n",
    "    acc_.append(accuracy_score(predicted_labels,y_train))\n",
    "    print(k, end = \" \")\n"
   ]
  },
  {
   "cell_type": "code",
   "execution_count": null,
   "metadata": {},
   "outputs": [],
   "source": [
    "\n",
    "\n",
    "fig, ax1 = plt.subplots(figsize=(8,5)) \n",
    "\n",
    "ax2 = ax1.twinx()\n",
    "\n",
    "ax1.set_xlabel(\"Number of clusters\")\n",
    "ax1.set_ylabel(\"sum of squared distances\")\n",
    "ax2.set_ylabel(\"accuracy\")\n",
    "\n",
    "p1, = ax1.plot(list_k, sse_, \"bo-\", label = \"sum of squared distances\")\n",
    "p2, = ax2.plot(list_k, acc_, \"g*-\", label = \"accuracy\")\n",
    "\n",
    "lns = [p1, p2]\n",
    "ax1.legend(handles = lns, loc = \"center right\")\n",
    "\n",
    "fig.tight_layout()\n",
    "plt.grid()\n",
    "plt.show()\n"
   ]
  },
  {
   "cell_type": "code",
   "execution_count": null,
   "metadata": {},
   "outputs": [],
   "source": [
    "print(\"accuracy with 100 clusters:\", acc[19])"
   ]
  },
  {
   "cell_type": "code",
   "execution_count": null,
   "metadata": {},
   "outputs": [],
   "source": []
  }
 ],
 "metadata": {
  "kernelspec": {
   "display_name": "Python 3 (ipykernel)",
   "language": "python",
   "name": "python3"
  },
  "language_info": {
   "codemirror_mode": {
    "name": "ipython",
    "version": 3
   },
   "file_extension": ".py",
   "mimetype": "text/x-python",
   "name": "python",
   "nbconvert_exporter": "python",
   "pygments_lexer": "ipython3",
   "version": "3.9.7"
  }
 },
 "nbformat": 4,
 "nbformat_minor": 4
}
